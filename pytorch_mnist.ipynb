{
 "cells": [
  {
   "cell_type": "code",
   "execution_count": 1,
   "metadata": {},
   "outputs": [
    {
     "name": "stderr",
     "output_type": "stream",
     "text": [
      "/root/miniconda3/envs/myconda/lib/python3.8/site-packages/tqdm/auto.py:22: TqdmWarning: IProgress not found. Please update jupyter and ipywidgets. See https://ipywidgets.readthedocs.io/en/stable/user_install.html\n",
      "  from .autonotebook import tqdm as notebook_tqdm\n"
     ]
    }
   ],
   "source": [
    "# 导入相关包\n",
    "# 测试环境 K80 pytorch1.10\n",
    "import torch\n",
    "import torchvision \n",
    "from tqdm import tqdm\n",
    "import matplotlib.pyplot as plt"
   ]
  },
  {
   "cell_type": "markdown",
   "metadata": {},
   "source": [
    "详细使用教程可以查看[矩池云入门手册](https://matpool.com/supports/doc-quick-start/)"
   ]
  },
  {
   "cell_type": "markdown",
   "metadata": {},
   "source": [
    "## 一、数据预处理\n",
    "### 1.1 构建全局变量"
   ]
  },
  {
   "cell_type": "code",
   "execution_count": 2,
   "metadata": {},
   "outputs": [
    {
     "name": "stdout",
     "output_type": "stream",
     "text": [
      "cuda:0\n"
     ]
    }
   ],
   "source": [
    "#如果网络能在GPU中训练，就使用GPU；否则使用CPU进行训练\n",
    "device = \"cuda:0\" if torch.cuda.is_available() else \"cpu\"\n",
    "print(device)"
   ]
  },
  {
   "cell_type": "code",
   "execution_count": 3,
   "metadata": {},
   "outputs": [],
   "source": [
    "#这个函数包括了两个操作：将图片转换为张量，以及将图片进行归一化处理\n",
    "transform = torchvision.transforms.Compose([torchvision.transforms.ToTensor(),\n",
    "                                torchvision.transforms.Normalize(mean = [0.5],std = [0.5])])"
   ]
  },
  {
   "cell_type": "code",
   "execution_count": 4,
   "metadata": {},
   "outputs": [],
   "source": [
    "# 设置了每个包中的图片数据个数\n",
    "BATCH_SIZE = 64\n",
    "EPOCHS = 10"
   ]
  },
  {
   "cell_type": "markdown",
   "metadata": {},
   "source": [
    "### 1.2 加载构建训练和测试数据集"
   ]
  },
  {
   "cell_type": "code",
   "execution_count": 5,
   "metadata": {},
   "outputs": [],
   "source": [
    "# 加载训练和测试数据\n",
    "train_dataset = torchvision.datasets.MNIST('/mnt/MyMNIST/',train = True,transform = transform)\n",
    "test_dataset = torchvision.datasets.MNIST('/mnt/MyMNIST/',train = False,transform = transform)"
   ]
  },
  {
   "cell_type": "code",
   "execution_count": 6,
   "metadata": {},
   "outputs": [],
   "source": [
    "# 建立一个数据迭代器\n",
    "# 装载训练集\n",
    "train_loader = torch.utils.data.DataLoader(dataset=train_dataset,\n",
    "                                           batch_size=BATCH_SIZE,\n",
    "                                           shuffle=True)\n",
    "# 装载测试集\n",
    "test_loader = torch.utils.data.DataLoader(dataset=test_dataset,\n",
    "                                          batch_size=BATCH_SIZE,\n",
    "                                          shuffle=True)"
   ]
  },
  {
   "cell_type": "markdown",
   "metadata": {},
   "source": [
    "## 二、数据训练部分\n",
    "### 2.1 构建模型"
   ]
  },
  {
   "cell_type": "code",
   "execution_count": 7,
   "metadata": {},
   "outputs": [],
   "source": [
    "# 一个简单的卷积神经网络\n",
    "class Net(torch.nn.Module):\n",
    "    def __init__(self):\n",
    "        super(Net,self).__init__()\n",
    "        self.model = torch.nn.Sequential(\n",
    "            #The size of the picture is 28x28\n",
    "            torch.nn.Conv2d(in_channels = 1,out_channels = 16,kernel_size = 3,stride = 1,padding = 1),\n",
    "            torch.nn.ReLU(),\n",
    "            torch.nn.MaxPool2d(kernel_size = 2,stride = 2),\n",
    "            \n",
    "            #The size of the picture is 14x14\n",
    "            torch.nn.Conv2d(in_channels = 16,out_channels = 32,kernel_size = 3,stride = 1,padding = 1),\n",
    "            torch.nn.ReLU(),\n",
    "            torch.nn.MaxPool2d(kernel_size = 2,stride = 2),\n",
    "            \n",
    "            #The size of the picture is 7x7\n",
    "            torch.nn.Conv2d(in_channels = 32,out_channels = 64,kernel_size = 3,stride = 1,padding = 1),\n",
    "            torch.nn.ReLU(),\n",
    "            \n",
    "            torch.nn.Flatten(),\n",
    "            torch.nn.Linear(in_features = 7 * 7 * 64,out_features = 128),\n",
    "            torch.nn.ReLU(),\n",
    "            torch.nn.Linear(in_features = 128,out_features = 10),\n",
    "            torch.nn.Softmax(dim=1)\n",
    "        )\n",
    "        \n",
    "    def forward(self,input):\n",
    "        output = self.model(input)\n",
    "        return output"
   ]
  },
  {
   "cell_type": "code",
   "execution_count": 8,
   "metadata": {},
   "outputs": [],
   "source": [
    "# 如果运行出现 'tqdm' object has no attribute 'sp'\n",
    "# 就pip安装下ipywidgets pip install ipywidgets"
   ]
  },
  {
   "cell_type": "code",
   "execution_count": 9,
   "metadata": {},
   "outputs": [
    {
     "name": "stdout",
     "output_type": "stream",
     "text": [
      "Net(\n",
      "  (model): Sequential(\n",
      "    (0): Conv2d(1, 16, kernel_size=(3, 3), stride=(1, 1), padding=(1, 1))\n",
      "    (1): ReLU()\n",
      "    (2): MaxPool2d(kernel_size=2, stride=2, padding=0, dilation=1, ceil_mode=False)\n",
      "    (3): Conv2d(16, 32, kernel_size=(3, 3), stride=(1, 1), padding=(1, 1))\n",
      "    (4): ReLU()\n",
      "    (5): MaxPool2d(kernel_size=2, stride=2, padding=0, dilation=1, ceil_mode=False)\n",
      "    (6): Conv2d(32, 64, kernel_size=(3, 3), stride=(1, 1), padding=(1, 1))\n",
      "    (7): ReLU()\n",
      "    (8): Flatten(start_dim=1, end_dim=-1)\n",
      "    (9): Linear(in_features=3136, out_features=128, bias=True)\n",
      "    (10): ReLU()\n",
      "    (11): Linear(in_features=128, out_features=10, bias=True)\n",
      "    (12): Softmax(dim=1)\n",
      "  )\n",
      ")\n"
     ]
    }
   ],
   "source": [
    "# 构建模型实例\n",
    "net = Net()\n",
    "# to() 方法用于将张量放入到指定的设备（如CPU或GPU中），不同设备的张量是无法进行运算的\n",
    "print(net.to(device))"
   ]
  },
  {
   "cell_type": "markdown",
   "metadata": {},
   "source": [
    "### 2.2 构建迭代器与损失函数"
   ]
  },
  {
   "cell_type": "code",
   "execution_count": 10,
   "metadata": {},
   "outputs": [],
   "source": [
    "# 交叉熵损失来作为损失函数\n",
    "# Adam迭代器\n",
    "loss_fun = torch.nn.CrossEntropyLoss() \n",
    "optimizer = torch.optim.Adam(net.parameters())"
   ]
  },
  {
   "cell_type": "markdown",
   "metadata": {},
   "source": [
    "### 2.3 构建训练循环"
   ]
  },
  {
   "cell_type": "code",
   "execution_count": null,
   "metadata": {},
   "outputs": [
    {
     "name": "stderr",
     "output_type": "stream",
     "text": [
      "[1/10] Loss: 1.5112, Acc: 1.0000, Test Loss: 1.4895, Test Acc: 0.9677: 100%|██████████| 938/938 [00:25<00:00, 36.43step/s]\n",
      "[2/10] Loss: 1.4612, Acc: 1.0000, Test Loss: 1.4831, Test Acc: 0.9735: 100%|██████████| 938/938 [00:25<00:00, 36.34step/s]\n",
      "[3/10] Loss: 1.4624, Acc: 1.0000, Test Loss: 1.4802, Test Acc: 0.9759: 100%|██████████| 938/938 [00:26<00:00, 36.05step/s]\n",
      "[4/10] Loss: 1.4612, Acc: 1.0000, Test Loss: 1.4754, Test Acc: 0.9813: 100%|██████████| 938/938 [00:26<00:00, 36.07step/s]\n",
      "[5/10] Loss: 1.4612, Acc: 1.0000, Test Loss: 1.4727, Test Acc: 0.9841: 100%|██████████| 938/938 [00:26<00:00, 35.91step/s]\n",
      "[6/10] Loss: 1.4612, Acc: 1.0000, Test Loss: 1.4724, Test Acc: 0.9842: 100%|██████████| 938/938 [00:25<00:00, 36.16step/s]\n",
      "[7/10] Loss: 1.4612, Acc: 1.0000, Test Loss: 1.4724, Test Acc: 0.9839: 100%|██████████| 938/938 [00:25<00:00, 36.75step/s]\n",
      "[8/10] Loss: 1.4614, Acc: 1.0000:  12%|█▏        | 115/938 [00:02<00:20, 40.03step/s]"
     ]
    }
   ],
   "source": [
    "history = {'Test Loss':[],'Test Accuracy':[]}\n",
    "for epoch in range(1,EPOCHS + 1):\n",
    "    process_bar = tqdm(train_loader,unit = 'step')\n",
    "    net.train(True)\n",
    "    for step,(train_imgs,labels) in enumerate(process_bar):\n",
    "        train_imgs = train_imgs.to(device)\n",
    "        labels = labels.to(device)\n",
    "\n",
    "        net.zero_grad()\n",
    "        outputs = net(train_imgs)\n",
    "        loss = loss_fun(outputs,labels)\n",
    "        predictions = torch.argmax(outputs, dim = 1)\n",
    "        accuracy = torch.true_divide(torch.sum(predictions == labels), labels.shape[0])\n",
    "        loss.backward()\n",
    "\n",
    "        optimizer.step()\n",
    "        process_bar.set_description(\"[%d/%d] Loss: %.4f, Acc: %.4f\" % \n",
    "                                   (epoch,EPOCHS,loss.item(),accuracy.item()))\n",
    "        \n",
    "        if step == len(process_bar)-1:\n",
    "            correct,total_loss = 0,0\n",
    "            net.train(False)\n",
    "            with torch.no_grad():\n",
    "                for test_imgs,labels in test_loader:\n",
    "                    test_imgs = test_imgs.to(device)\n",
    "                    labels = labels.to(device)\n",
    "                    outputs = net(test_imgs)\n",
    "                    loss = loss_fun(outputs,labels)\n",
    "                    predictions = torch.argmax(outputs,dim = 1)\n",
    "\n",
    "                    total_loss += loss\n",
    "                    correct += torch.sum(predictions == labels)\n",
    "\n",
    "                test_accuracy = torch.true_divide(correct, (BATCH_SIZE * len(test_loader)))\n",
    "                test_loss = torch.true_divide(total_loss, len(test_loader))\n",
    "                history['Test Loss'].append(test_loss.item())\n",
    "                history['Test Accuracy'].append(test_accuracy.item())\n",
    "            \n",
    "            process_bar.set_description(\"[%d/%d] Loss: %.4f, Acc: %.4f, Test Loss: %.4f, Test Acc: %.4f\" % \n",
    "                                   (epoch,EPOCHS,loss.item(),accuracy.item(),test_loss.item(),test_accuracy.item()))\n",
    "    process_bar.close()\n"
   ]
  },
  {
   "cell_type": "markdown",
   "metadata": {},
   "source": [
    "## 三、数据预后处理部分\n",
    "\n",
    "### 3.1 训练结果可视化"
   ]
  },
  {
   "cell_type": "code",
   "execution_count": null,
   "metadata": {},
   "outputs": [],
   "source": [
    "#对测试Loss进行可视化\n",
    "plt.plot(history['Test Loss'],label = 'Test Loss')\n",
    "plt.legend(loc='best')\n",
    "plt.grid(True)\n",
    "plt.xlabel('Epoch')\n",
    "plt.ylabel('Loss')\n",
    "plt.show()\n",
    "\n",
    "#对测试准确率进行可视化\n",
    "plt.plot(history['Test Accuracy'],color = 'red',label = 'Test Accuracy')\n",
    "plt.legend(loc='best')\n",
    "plt.grid(True)\n",
    "plt.xlabel('Epoch')\n",
    "plt.ylabel('Accuracy')\n",
    "plt.show()"
   ]
  },
  {
   "cell_type": "markdown",
   "metadata": {},
   "source": [
    "##### 参考\n",
    "> [PyTorch手写数字识别(MNIST数据集)](https://blog.csdn.net/weixin_44613063/article/details/90815082)<br>\n",
    "> [Pytorch入门——手把手教你MNIST手写数字识别](https://blog.csdn.net/NikkiElwin/article/details/112980305)\n"
   ]
  },
  {
   "cell_type": "code",
   "execution_count": null,
   "metadata": {},
   "outputs": [],
   "source": []
  }
 ],
 "metadata": {
  "kernelspec": {
   "display_name": "myconda",
   "language": "python",
   "name": "myconda"
  },
  "language_info": {
   "codemirror_mode": {
    "name": "ipython",
    "version": 3
   },
   "file_extension": ".py",
   "mimetype": "text/x-python",
   "name": "python",
   "nbconvert_exporter": "python",
   "pygments_lexer": "ipython3",
   "version": "3.8.12"
  }
 },
 "nbformat": 4,
 "nbformat_minor": 4
}
